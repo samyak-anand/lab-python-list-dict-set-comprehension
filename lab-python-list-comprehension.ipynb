{
 "cells": [
  {
   "cell_type": "markdown",
   "id": "25d7736c-ba17-4aff-b6bb-66eba20fbf4e",
   "metadata": {},
   "source": [
    "# Lab | List, Dict and Set Comprehension"
   ]
  },
  {
   "cell_type": "markdown",
   "id": "7dd3cbde-675a-4b81-92c3-f728846dbe06",
   "metadata": {},
   "source": [
    "## Exercise: Managing Customer Orders Optimized with Comprehension"
   ]
  },
  {
   "cell_type": "markdown",
   "id": "5d500160-2fb7-4777-b5e4-09d45ebaf328",
   "metadata": {},
   "source": [
    "In the previous exercise, you developed a program to manage customer orders and inventory. Now, let's take it a step further and incorporate comprehension into your code.\n",
    "\n",
    "Follow the steps below to complete the exercise:\n",
    "\n",
    "1. Review your code from the previous exercise and identify areas where you can apply comprehension to simplify and streamline your code. \n",
    "\n",
    "    - *Hint: Apply it to initialize inventory, updating the inventory and printing the updated inventory.*\n",
    "    \n",
    "    - For example, in initializing the inventory, we could have:\n",
    "    \n",
    "        ```python\n",
    "        def initialize_inventory(products):\n",
    "            inventory = {product: int(input(f\"Enter the quantity of {product}s available: \")) for product in products}\n",
    "            return inventory\n",
    "\n",
    "        ```\n",
    "<br>\n",
    "    \n",
    "    \n",
    "2. Modify the function get_customer_orders so it prompts the user to enter the number of customer orders and gathers the product names using a loop and user input. Use comprehension.\n",
    "\n",
    "3. Add a new function to calculate the total price of the customer order. For each product in customer_orders, prompt the user to enter the price of that product. Use comprehension to calculate the total price. Note: assume that the user can only have 1 unit of each product.\n",
    "\n",
    "4. Modify the update_inventory function to remove the product from the inventory if its quantity becomes zero after fulfilling the customer orders. Use comprehension to filter out the products with a quantity of zero from the inventory.\n",
    "\n",
    "5. Print the total price of the customer order.\n",
    "\n",
    "Your code should produce output similar to the following:\n",
    "\n",
    "```python\n",
    "Enter the quantity of t-shirts available:  5\n",
    "Enter the quantity of mugs available:  4\n",
    "Enter the quantity of hats available:  3\n",
    "Enter the quantity of books available:  2\n",
    "Enter the quantity of keychains available:  1\n",
    "Enter the number of customer orders:  2\n",
    "Enter the name of a product that a customer wants to order:  hat\n",
    "Enter the name of a product that a customer wants to order:  keychain\n",
    "\n",
    "Order Statistics:\n",
    "Total Products Ordered: 2\n",
    "Percentage of Unique Products Ordered: 40.0\n",
    "\n",
    "Updated Inventory:\n",
    "t-shirt: 5\n",
    "mug: 4\n",
    "hat: 2\n",
    "book: 2\n",
    "Enter the price of keychain:  5\n",
    "Enter the price of hat:  10\n",
    "Total Price: 15.0\n",
    "\n",
    "```\n"
   ]
  },
  {
   "cell_type": "code",
   "execution_count": 3,
   "id": "6532d22c",
   "metadata": {},
   "outputs": [],
   "source": [
    "#defining the function initialize_inventory()\n",
    "def initialize_inventory(products):\n",
    "    inventory={}\n",
    "    inventory= {\n",
    "        product:int(input(f\"Enter the quantity of {product} in the inventory:\"))\n",
    "               for product in products\n",
    "               }\n",
    "    return inventory\n",
    "\n"
   ]
  },
  {
   "cell_type": "code",
   "execution_count": 4,
   "id": "4c28aaf6",
   "metadata": {},
   "outputs": [
    {
     "name": "stdout",
     "output_type": "stream",
     "text": [
      "\n",
      " ------------- Inventory List --------------\n",
      "\n",
      "t-shirt\n",
      "mug\n",
      "hat\n",
      "book\n",
      "keychain\n",
      "-------------------------------------------------\n",
      "\n",
      " ---------Updated Inventory List -------------\n",
      "\n",
      "Enter the quantity of t-shirt available: 6\n",
      "Enter the quantity of mug available: 8\n",
      "Enter the quantity of hat available: 9\n",
      "Enter the quantity of book available: 8\n",
      "Enter the quantity of keychain available: 5\n"
     ]
    }
   ],
   "source": [
    "product_list= [\"t-shirt\", \"mug\", \"hat\", \"book\", \"keychain\"]\n",
    "print(\"\\n ------------- Inventory List --------------\\n\")\n",
    "[print(product) for product in product_list] \n",
    "print(\"-------------------------------------------------\")\n",
    "inventory=initialize_inventory(product_list)\n",
    "print(\"\\n ---------Updated Inventory List -------------\\n\")\n",
    "for product in inventory.keys():\n",
    "    print(f\"Enter the quantity of {product} available:\",inventory[product])"
   ]
  },
  {
   "cell_type": "code",
   "execution_count": 5,
   "id": "f74d740b",
   "metadata": {},
   "outputs": [],
   "source": [
    "\n",
    "def get_customer_order(product,inventory):\n",
    "    # Get the customer's order \n",
    "    \n",
    "    customer_orders= set() \n",
    "    while True:\n",
    "        product = input(\"Enter the name of the product to order: \").lower()\n",
    "        if product in product_list:\n",
    "            customer_orders.add(product)\n",
    "        else:\n",
    "            print(\"Sorry, we don't have that product.\")\n",
    "        more = input(\"Do you want to add another product? (yes/no): \").lower()\n",
    "        if more != 'yes':\n",
    "            break\n",
    "\n",
    "    return customer_orders\n"
   ]
  },
  {
   "cell_type": "code",
   "execution_count": 8,
   "id": "61c64f28",
   "metadata": {},
   "outputs": [],
   "source": [
    "customer_order= get_customer_order(product_list,inventory)"
   ]
  },
  {
   "cell_type": "code",
   "execution_count": null,
   "id": "54c4af96",
   "metadata": {},
   "outputs": [
    {
     "data": {
      "text/plain": [
       "{'book'}"
      ]
     },
     "execution_count": 9,
     "metadata": {},
     "output_type": "execute_result"
    }
   ],
   "source": [
    "print"
   ]
  },
  {
   "cell_type": "code",
   "execution_count": null,
   "id": "45f544d6",
   "metadata": {},
   "outputs": [],
   "source": []
  }
 ],
 "metadata": {
  "kernelspec": {
   "display_name": ".venv",
   "language": "python",
   "name": "python3"
  },
  "language_info": {
   "codemirror_mode": {
    "name": "ipython",
    "version": 3
   },
   "file_extension": ".py",
   "mimetype": "text/x-python",
   "name": "python",
   "nbconvert_exporter": "python",
   "pygments_lexer": "ipython3",
   "version": "3.12.3"
  }
 },
 "nbformat": 4,
 "nbformat_minor": 5
}
